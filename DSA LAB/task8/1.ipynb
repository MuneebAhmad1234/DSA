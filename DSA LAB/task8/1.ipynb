{
 "cells": [
  {
   "cell_type": "code",
   "execution_count": null,
   "id": "470cd035",
   "metadata": {},
   "outputs": [
    {
     "name": "stdout",
     "output_type": "stream",
     "text": [
      "Adjacency List:\n",
      "0: [1, 2]\n",
      "1: [0, 3]\n",
      "2: [0, 4]\n",
      "3: [1]\n",
      "4: [2]\n",
      "\n",
      "Adjacency Matrix:\n",
      "[0, 1, 1, 0, 0]\n",
      "[1, 0, 0, 1, 0]\n",
      "[1, 0, 0, 0, 1]\n",
      "[0, 1, 0, 0, 0]\n",
      "[0, 0, 1, 0, 0]\n",
      "\n",
      "After removing edge (0, 2):\n",
      "Adjacency List:\n",
      "0: [1]\n",
      "1: [0, 3]\n",
      "2: [4]\n",
      "3: [1]\n",
      "4: [2]\n",
      "\n",
      "Adjacency Matrix:\n",
      "[0, 1, 0, 0, 0]\n",
      "[1, 0, 0, 1, 0]\n",
      "[0, 0, 0, 0, 1]\n",
      "[0, 1, 0, 0, 0]\n",
      "[0, 0, 1, 0, 0]\n"
     ]
    }
   ],
   "source": [
    "class Graph:\n",
    "    def __init__(self, num_vertices, directed=False):\n",
    "        self.num_vertices = num_vertices\n",
    "        self.directed = directed\n",
    "        self.adj_list = {i: [] for i in range(num_vertices)}\n",
    "        self.adj_matrix = [[0] * num_vertices for _ in range(num_vertices)]\n",
    "\n",
    "    def add_edge(self, v1, v2):\n",
    "        if v2 not in self.adj_list[v1]:\n",
    "            self.adj_list[v1].append(v2)\n",
    "        if not self.directed and v1 not in self.adj_list[v2]:\n",
    "            self.adj_list[v2].append(v1)\n",
    "        self.adj_matrix[v1][v2] = 1\n",
    "        if not self.directed:\n",
    "            self.adj_matrix[v2][v1] = 1\n",
    "\n",
    "    def remove_edge(self, v1, v2):\n",
    "        if v2 in self.adj_list[v1]:\n",
    "            self.adj_list[v1].remove(v2)\n",
    "        if not self.directed and v1 in self.adj_list[v2]:\n",
    "            self.adj_list[v2].remove(v1)\n",
    "        self.adj_matrix[v1][v2] = 0\n",
    "        if not self.directed:\n",
    "            self.adj_matrix[v2][v1] = 0\n",
    "\n",
    "    def display(self):\n",
    "        print(\"Adjacency List:\")\n",
    "        for v in range(self.num_vertices):\n",
    "            print(f\"{v}: {self.adj_list[v]}\")\n",
    "        print(\"\\nAdjacency Matrix:\")\n",
    "        for row in self.adj_matrix:\n",
    "            print(row)\n",
    "\n",
    "g = Graph(5)\n",
    "g.add_edge(0, 1)\n",
    "g.add_edge(0, 2)\n",
    "g.add_edge(1, 3)\n",
    "g.add_edge(2, 4)\n",
    "g.display()\n",
    "print(\"\\nAfter removing edge (0, 2):\")\n",
    "g.remove_edge(0, 2)\n",
    "g.display()\n",
    "\n",
    "\n"
   ]
  },
  {
   "cell_type": "code",
   "execution_count": null,
   "id": "7c125b4c",
   "metadata": {},
   "outputs": [],
   "source": []
  }
 ],
 "metadata": {
  "kernelspec": {
   "display_name": "Python 3",
   "language": "python",
   "name": "python3"
  },
  "language_info": {
   "name": "python",
   "version": "3.13.2"
  }
 },
 "nbformat": 4,
 "nbformat_minor": 5
}
