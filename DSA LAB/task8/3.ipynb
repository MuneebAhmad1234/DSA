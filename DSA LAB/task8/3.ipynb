{
 "cells": [
  {
   "cell_type": "code",
   "execution_count": null,
   "id": "abfbd29a",
   "metadata": {},
   "outputs": [],
   "source": [
    "import heapq\n",
    "\n",
    "def dijkstra(graph, start):\n",
    "    distances = {node: float('inf') for node in graph}\n",
    "    distances[start] = 0\n",
    "    heap = [(0, start)]\n",
    "    while heap:\n",
    "        current_dist, current_node = heapq.heappop(heap)\n",
    "        if current_dist > distances[current_node]:\n",
    "            continue\n",
    "        for neighbor, weight in graph[current_node].items():\n",
    "            distance = current_dist + weight\n",
    "            if distance < distances[neighbor]:\n",
    "                distances[neighbor] = distance\n",
    "                heapq.heappush(heap, (distance, neighbor))\n",
    "    return distances\n",
    "\n",
    "graph1 = {\n",
    "    'A': {'B': 4, 'C': 1},\n",
    "    'B': {'A': 4, 'C': 2, 'D': 5},\n",
    "    'C': {'A': 1, 'B': 2, 'D': 8},\n",
    "    'D': {'B': 5, 'C': 8}\n",
    "}\n",
    "print(dijkstra(graph1, 'A'))\n",
    "\n",
    "graph2 = {\n",
    "    'A': {'B': 2},\n",
    "    'B': {'A': 2, 'C': 3},\n",
    "    'C': {'B': 3},\n",
    "    'D': {}\n",
    "}\n",
    "print(dijkstra(graph2, 'A'))\n",
    "\n",
    "graph3 = {\n",
    "    'X': {}\n",
    "}\n",
    "print(dijkstra(graph3, 'X'))\n"
   ]
  }
 ],
 "metadata": {
  "language_info": {
   "name": "python"
  }
 },
 "nbformat": 4,
 "nbformat_minor": 5
}
