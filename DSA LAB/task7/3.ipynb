{
 "cells": [
  {
   "cell_type": "code",
   "execution_count": null,
   "id": "cea37561",
   "metadata": {},
   "outputs": [],
   "source": [
    "import heapq\n",
    "import time\n",
    "import random\n",
    "\n",
    "def find_k_smallest(arr, k):\n",
    "    return heapq.nsmallest(k, arr)\n",
    "\n",
    "def find_k_largest(arr, k):\n",
    "    return heapq.nlargest(k, arr)\n",
    "\n",
    "arr1 = [10, 4, 3, 20, 15, 7]\n",
    "print(\"K smallest:\", find_k_smallest(arr1, 3))\n",
    "print(\"K largest:\", find_k_largest(arr1, 2))\n",
    "\n",
    "arr2 = [5, 1, 9, 3, 14, 8, 2]\n",
    "print(\"K smallest:\", find_k_smallest(arr2, 4))\n",
    "print(\"K largest:\", find_k_largest(arr2, 3))\n",
    "\n",
    "large_arr = random.sample(range(1000000), 100000)\n",
    "k = 100\n",
    "\n",
    "start = time.time()\n",
    "heap_smallest = find_k_smallest(large_arr, k)\n",
    "heap_largest = find_k_largest(large_arr, k)\n",
    "heap_time = time.time() - start\n",
    "\n",
    "start = time.time()\n",
    "sorted_smallest = sorted(large_arr)[:k]\n",
    "sorted_largest = sorted(large_arr, reverse=True)[:k]\n",
    "sort_time = time.time() - start\n",
    "\n",
    "print(f\"Heap-based time: {heap_time:.6f} seconds\")\n",
    "print(f\"Sorting-based time: {sort_time:.6f} seconds\")\n"
   ]
  }
 ],
 "metadata": {
  "language_info": {
   "name": "python"
  }
 },
 "nbformat": 4,
 "nbformat_minor": 5
}
