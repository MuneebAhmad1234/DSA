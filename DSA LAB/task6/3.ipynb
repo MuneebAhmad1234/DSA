{
 "cells": [
  {
   "cell_type": "code",
   "execution_count": 1,
   "id": "2b950444",
   "metadata": {},
   "outputs": [
    {
     "name": "stdout",
     "output_type": "stream",
     "text": [
      "LCA of 5 and 15: 10 (Expected: 10)\n",
      "LCA of 5 and 30: 20 (Expected: 20)\n",
      "LCA of 25 and 35: 30 (Expected: 30)\n",
      "LCA of 5 and 35: 20 (Expected: 20)\n"
     ]
    }
   ],
   "source": [
    "class TreeNode:\n",
    "    def __init__(self, val):\n",
    "        self.val = val\n",
    "        self.left = None\n",
    "        self.right = None\n",
    "\n",
    "def insert_bst(root, val):\n",
    "    if not root:\n",
    "        return TreeNode(val)\n",
    "    if val < root.val:\n",
    "        root.left = insert_bst(root.left, val)\n",
    "    else:\n",
    "        root.right = insert_bst(root.right, val)\n",
    "    return root\n",
    "\n",
    "def find_lca_bst(root, n1, n2):\n",
    "    while root:\n",
    "        if n1 < root.val and n2 < root.val:\n",
    "            root = root.left\n",
    "        elif n1 > root.val and n2 > root.val:\n",
    "            root = root.right\n",
    "        else:\n",
    "            return root\n",
    "    return None\n",
    "\n",
    "# Example BST construction\n",
    "values = [20, 10, 30, 5, 15, 25, 35]\n",
    "bst_root = None\n",
    "for v in values:\n",
    "    bst_root = insert_bst(bst_root, v)\n",
    "\n",
    "# Example test cases: (node1, node2, expected_lca)\n",
    "test_cases = [\n",
    "    (5, 15, 10),\n",
    "    (5, 30, 20),\n",
    "    (25, 35, 30),\n",
    "    (5, 35, 20)\n",
    "]\n",
    "\n",
    "for n1, n2, expected in test_cases:\n",
    "    lca = find_lca_bst(bst_root, n1, n2)\n",
    "    print(f\"LCA of {n1} and {n2}: {lca.val if lca else None} (Expected: {expected})\")\n"
   ]
  },
  {
   "cell_type": "code",
   "execution_count": null,
   "id": "6af38c0e",
   "metadata": {},
   "outputs": [],
   "source": []
  }
 ],
 "metadata": {
  "kernelspec": {
   "display_name": "Python 3",
   "language": "python",
   "name": "python3"
  },
  "language_info": {
   "name": "python",
   "version": "3.13.2"
  }
 },
 "nbformat": 4,
 "nbformat_minor": 5
}
