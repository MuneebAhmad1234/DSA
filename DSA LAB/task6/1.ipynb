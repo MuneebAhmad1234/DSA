{
 "cells": [
  {
   "cell_type": "code",
   "execution_count": null,
   "id": "edec9f2f",
   "metadata": {},
   "outputs": [],
   "source": [
    "class TreeNode:\n",
    "    def __init__(self, val=0, left=None, right=None):\n",
    "        self.val = val\n",
    "        self.left = left\n",
    "        self.right = right\n",
    "\n",
    "def is_balanced(root):\n",
    "    def check(node):\n",
    "        if not node:\n",
    "            return 0, True\n",
    "        left_height, left_balanced = check(node.left)\n",
    "        right_height, right_balanced = check(node.right)\n",
    "        balanced = (\n",
    "            left_balanced and\n",
    "            right_balanced and\n",
    "            abs(left_height - right_height) <= 1\n",
    "        )\n",
    "        return max(left_height, right_height) + 1, balanced\n",
    "    return check(root)[1]\n",
    "\n",
    "root1 = TreeNode(10)\n",
    "root1.left = TreeNode(5, TreeNode(2), TreeNode(7))\n",
    "root1.right = TreeNode(15, TreeNode(12), TreeNode(20))\n",
    "print(is_balanced(root1))  # Output: True\n",
    "\n",
    "root2 = TreeNode(10)\n",
    "root2.left = TreeNode(5, TreeNode(2))\n",
    "print(is_balanced(root2))  # Output: False\n"
   ]
  }
 ],
 "metadata": {
  "language_info": {
   "name": "python"
  }
 },
 "nbformat": 4,
 "nbformat_minor": 5
}
